{
 "cells": [
  {
   "cell_type": "code",
   "execution_count": 6,
   "id": "2ea84b42-0781-443c-8896-37c88af599c4",
   "metadata": {},
   "outputs": [
    {
     "data": {
      "text/plain": [
       "False"
      ]
     },
     "execution_count": 6,
     "metadata": {},
     "output_type": "execute_result"
    }
   ],
   "source": [
    "a=True\n",
    "b=False\n",
    "b"
   ]
  },
  {
   "cell_type": "code",
   "execution_count": 9,
   "id": "3d8d219c-027c-41f0-aeff-c012b02ecdc3",
   "metadata": {},
   "outputs": [
    {
     "name": "stdout",
     "output_type": "stream",
     "text": [
      "False\n",
      "True\n"
     ]
    }
   ],
   "source": [
    "a=10\n",
    "b=20\n",
    "print(a>b)\n",
    "print(a<b)"
   ]
  },
  {
   "cell_type": "code",
   "execution_count": 10,
   "id": "f8fa5226-d509-4185-97b7-bbb568a143c7",
   "metadata": {},
   "outputs": [
    {
     "name": "stdout",
     "output_type": "stream",
     "text": [
      "True\n",
      "False\n",
      "True\n",
      "False\n",
      "False\n",
      "True\n"
     ]
    }
   ],
   "source": [
    "a=23\n",
    "b=20\n",
    "print(a>b)\n",
    "print(a<b)\n",
    "print(a>=b)\n",
    "print(a<=b)\n",
    "print(a==b)\n",
    "print(a!=b)"
   ]
  },
  {
   "cell_type": "code",
   "execution_count": 19,
   "id": "0229aeb7-58b4-4ca4-893a-84e2b83a3c6c",
   "metadata": {},
   "outputs": [
    {
     "data": {
      "text/plain": [
       "True"
      ]
     },
     "execution_count": 19,
     "metadata": {},
     "output_type": "execute_result"
    }
   ],
   "source": [
    "#Logical operators\n",
    "c1=a>10\n",
    "c2=b>10\n",
    "c1 and c2"
   ]
  },
  {
   "cell_type": "code",
   "execution_count": 20,
   "id": "5c9f24be-3185-442b-8c50-901e7e4b8221",
   "metadata": {},
   "outputs": [
    {
     "name": "stdout",
     "output_type": "stream",
     "text": [
      "False\n",
      "True\n",
      "False\n"
     ]
    }
   ],
   "source": [
    "c1=a>10\n",
    "c2=b>20\n",
    "r1=c1 and c2\n",
    "r2=c1 or c2\n",
    "r3=not(c1)\n",
    "print(r1)\n",
    "print(r2)\n",
    "print(r3)"
   ]
  },
  {
   "cell_type": "code",
   "execution_count": 23,
   "id": "b046d680-d352-4cd8-9fd0-54fb343a3f17",
   "metadata": {},
   "outputs": [
    {
     "name": "stdout",
     "output_type": "stream",
     "text": [
      "I am inside if\n",
      "I am inside if2\n"
     ]
    }
   ],
   "source": [
    "#if else\n",
    "a=True\n",
    "if a:\n",
    "    print('I am inside if')\n",
    "    print('I am inside if2')\n",
    "else:\n",
    "    print('I am inside else')"
   ]
  },
  {
   "cell_type": "code",
   "execution_count": 26,
   "id": "573482ba-0a0e-4313-9f2f-5a806e7870ba",
   "metadata": {},
   "outputs": [
    {
     "name": "stdin",
     "output_type": "stream",
     "text": [
      "Enter number: 12\n"
     ]
    },
    {
     "name": "stdout",
     "output_type": "stream",
     "text": [
      "Even\n"
     ]
    }
   ],
   "source": [
    "#Check number is odd or even\n",
    "a=int(input('Enter number:'))\n",
    "if a%2==0:\n",
    "    print('Even')\n",
    "else:\n",
    "    print('odd')"
   ]
  },
  {
   "cell_type": "code",
   "execution_count": 32,
   "id": "b04020b1-2ed1-4362-95f4-ae00df1cea44",
   "metadata": {},
   "outputs": [
    {
     "name": "stdin",
     "output_type": "stream",
     "text": [
      "Enter number: 11\n"
     ]
    },
    {
     "name": "stdout",
     "output_type": "stream",
     "text": [
      "Odd\n"
     ]
    }
   ],
   "source": [
    "#Check even or odd\n",
    "a=int(input('Enter number:'))\n",
    "if a%2==0:\n",
    "    print('Even')\n",
    "else:\n",
    "    print('Odd')"
   ]
  },
  {
   "cell_type": "code",
   "execution_count": 4,
   "id": "a1626626-f086-4b56-9e44-c9f743c149f5",
   "metadata": {},
   "outputs": [
    {
     "name": "stdin",
     "output_type": "stream",
     "text": [
      "Enter number 1: 12\n",
      "Enter number 2: 45\n"
     ]
    },
    {
     "name": "stdout",
     "output_type": "stream",
     "text": [
      "Yes\n"
     ]
    }
   ],
   "source": [
    "#Both numbers greater than 10 or not\n",
    "num1=int(input('Enter number 1:'))\n",
    "num2=int(input('Enter number 2:'))\n",
    "if num1>10 and num2>10:\n",
    "    print('Yes')\n",
    "else:\n",
    "    print('No')"
   ]
  },
  {
   "cell_type": "code",
   "execution_count": 7,
   "id": "eccea029-f293-40b4-8f4c-a9d9328bc3d1",
   "metadata": {},
   "outputs": [
    {
     "name": "stdin",
     "output_type": "stream",
     "text": [
      "Enter num: 7\n"
     ]
    },
    {
     "name": "stdout",
     "output_type": "stream",
     "text": [
      "YES\n"
     ]
    }
   ],
   "source": [
    "#Check whether number is 7 or not\n",
    "num=int(input('Enter num:'))\n",
    "if(num==7):\n",
    "    print('YES')\n",
    "else:\n",
    "    print('NO')"
   ]
  },
  {
   "cell_type": "code",
   "execution_count": 9,
   "id": "7ef1198e-16c1-440c-806c-1aad5289b380",
   "metadata": {},
   "outputs": [
    {
     "name": "stdin",
     "output_type": "stream",
     "text": [
      "Enter num: 7\n"
     ]
    },
    {
     "name": "stdout",
     "output_type": "stream",
     "text": [
      "It is 7\n"
     ]
    }
   ],
   "source": [
    "#using not equal\n",
    "num1=int(input('Enter num:'))\n",
    "if num1!=7:\n",
    "    print('It is not 7')\n",
    "else:\n",
    "    print('It is 7')"
   ]
  },
  {
   "cell_type": "code",
   "execution_count": 14,
   "id": "4924b7d9-2128-4d08-8097-5c62ed95052a",
   "metadata": {},
   "outputs": [
    {
     "name": "stdin",
     "output_type": "stream",
     "text": [
      "Enter number 1: 23\n",
      "Enter number 2: 11\n",
      "Enter number 3: 9\n"
     ]
    },
    {
     "name": "stdout",
     "output_type": "stream",
     "text": [
      "Number 1 is greatest\n"
     ]
    }
   ],
   "source": [
    "# number 1 is greatest\n",
    "num1=int(input('Enter number 1:'))\n",
    "num2=int(input('Enter number 2:'))\n",
    "num3=int(input('Enter number 3:'))\n",
    "if num1>num2 and num1>num3:\n",
    "    print('Number 1 is greatest')\n",
    "else:\n",
    "    print('Number 1 is not')"
   ]
  },
  {
   "cell_type": "markdown",
   "id": "4678d077-3bde-48c0-968e-c2c1236470b8",
   "metadata": {},
   "source": [
    "## Elif"
   ]
  },
  {
   "cell_type": "code",
   "execution_count": 10,
   "id": "0f0d2c39-ecd8-4018-91d1-c4b2f35bc5ba",
   "metadata": {},
   "outputs": [
    {
     "name": "stdin",
     "output_type": "stream",
     "text": [
      "Enter num1: 3\n",
      "Enter num2: 3\n",
      "Enter num3: 1\n"
     ]
    },
    {
     "name": "stdout",
     "output_type": "stream",
     "text": [
      "3  is the largest number\n"
     ]
    }
   ],
   "source": [
    "# Largest of three numbers\n",
    "num1=int(input('Enter num1:'))\n",
    "num2=int(input('Enter num2:'))\n",
    "num3=int(input('Enter num3:'))\n",
    "if num1>=num2 and num1>=num3:\n",
    "    print(num1,' is the largest number')\n",
    "elif num2>=num1 and num2>=num3:\n",
    "    print(num2,' is the largest number')\n",
    "else:\n",
    "    print(num3,' is the largest number')"
   ]
  },
  {
   "cell_type": "code",
   "execution_count": 25,
   "id": "fceee507-d9e6-4ffa-812e-fbbddc6404d5",
   "metadata": {},
   "outputs": [
    {
     "name": "stdin",
     "output_type": "stream",
     "text": [
      "Enter n: 22\n"
     ]
    },
    {
     "name": "stdout",
     "output_type": "stream",
     "text": [
      "Red\n"
     ]
    }
   ],
   "source": [
    "#Conditions\n",
    "n=int(input('Enter n:'))\n",
    "if n>10:\n",
    "    print('Red')\n",
    "elif n>=5 and n<=10:\n",
    "    print('Green')\n",
    "elif n>0 and n<5:\n",
    "    print('Yellow')\n",
    "else:\n",
    "    print('Do not do anything')"
   ]
  },
  {
   "cell_type": "code",
   "execution_count": 28,
   "id": "dd671bcc-3ebd-4109-871a-9d2182647319",
   "metadata": {},
   "outputs": [
    {
     "name": "stdin",
     "output_type": "stream",
     "text": [
      "Enter n: -89\n"
     ]
    },
    {
     "name": "stdout",
     "output_type": "stream",
     "text": [
      "Negative\n"
     ]
    }
   ],
   "source": [
    "#Check Number\n",
    "n=int(input('Enter n:'))\n",
    "if n>0:\n",
    "    print('Positive')\n",
    "elif n<0:\n",
    "    print('Negative')\n",
    "elif n==0:\n",
    "    print('Zero')"
   ]
  },
  {
   "cell_type": "code",
   "execution_count": 3,
   "id": "4742fbb2-d442-4c09-bc13-95dfcb4e2950",
   "metadata": {},
   "outputs": [
    {
     "name": "stdin",
     "output_type": "stream",
     "text": [
      " 0\n"
     ]
    },
    {
     "name": "stdout",
     "output_type": "stream",
     "text": [
      "Positive\n",
      "Zero\n"
     ]
    }
   ],
   "source": [
    "#check numbers\n",
    "n=int(input())\n",
    "if n>=0:\n",
    "    print('Positive')\n",
    "    if(n==0):\n",
    "        print('Zero')\n",
    "else:\n",
    "    print('Negative')"
   ]
  },
  {
   "cell_type": "code",
   "execution_count": 10,
   "id": "5b01de4b-f948-491d-a7b2-fedde5c2c0ca",
   "metadata": {},
   "outputs": [
    {
     "name": "stdin",
     "output_type": "stream",
     "text": [
      "Enter n: 2\n",
      "Enter m: 1\n"
     ]
    },
    {
     "name": "stdout",
     "output_type": "stream",
     "text": [
      "2\n"
     ]
    }
   ],
   "source": [
    "n=int(input('Enter n:'))\n",
    "m=int(input('Enter m:'))\n",
    "if n%2==0:\n",
    "    if m%2==0:\n",
    "        print(1)\n",
    "    else:\n",
    "        print(2)\n",
    "else:\n",
    "    print(3)"
   ]
  },
  {
   "cell_type": "code",
   "execution_count": 5,
   "id": "4ebdfa99-ffd9-449b-b53b-54acc8a882dd",
   "metadata": {},
   "outputs": [
    {
     "name": "stdout",
     "output_type": "stream",
     "text": [
      "1\n",
      "1\n",
      "1\n",
      "1\n",
      "1\n",
      "1\n",
      "1\n",
      "1\n",
      "1\n",
      "1\n"
     ]
    }
   ],
   "source": [
    "n=1\n",
    "while n<=10:\n",
    "    print(1)\n",
    "    n=n+1"
   ]
  },
  {
   "cell_type": "code",
   "execution_count": 8,
   "id": "6a3f1105-6a1a-49f0-993d-6e52077f3e20",
   "metadata": {},
   "outputs": [
    {
     "name": "stdin",
     "output_type": "stream",
     "text": [
      "Enter n: 8\n"
     ]
    },
    {
     "name": "stdout",
     "output_type": "stream",
     "text": [
      "1\n",
      "2\n",
      "3\n",
      "4\n",
      "5\n",
      "6\n",
      "7\n",
      "8\n"
     ]
    }
   ],
   "source": [
    "#Print all numbers starting from 1 to n\n",
    "n=int(input('Enter n:'))\n",
    "i=1\n",
    "while i<=n:\n",
    "    print(i)\n",
    "    i=i+1"
   ]
  },
  {
   "cell_type": "code",
   "execution_count": 11,
   "id": "40b3c85b-d793-4a29-9328-faca04a72ec6",
   "metadata": {},
   "outputs": [
    {
     "name": "stdin",
     "output_type": "stream",
     "text": [
      "Enter n: 5\n"
     ]
    },
    {
     "name": "stdout",
     "output_type": "stream",
     "text": [
      "1\n",
      "1\n",
      "1\n",
      "1\n",
      "1\n"
     ]
    }
   ],
   "source": [
    "n=int(input('Enter n:'))\n",
    "i=1\n",
    "while i<=n:\n",
    "    print(1)\n",
    "    i=i+1"
   ]
  },
  {
   "cell_type": "code",
   "execution_count": 12,
   "id": "de78c206-fae9-44bc-89b1-c7aab6a4a206",
   "metadata": {},
   "outputs": [
    {
     "name": "stdin",
     "output_type": "stream",
     "text": [
      "Enter n: 7\n"
     ]
    },
    {
     "name": "stdout",
     "output_type": "stream",
     "text": [
      "1\n",
      "2\n",
      "3\n",
      "4\n",
      "5\n",
      "6\n",
      "7\n"
     ]
    }
   ],
   "source": [
    "n=int(input('Enter n:'))\n",
    "i=1\n",
    "while i<=n:\n",
    "    print(i)\n",
    "    i=i+1"
   ]
  },
  {
   "cell_type": "code",
   "execution_count": 16,
   "id": "286a05c8-8fbb-4671-9b56-122280cc17cc",
   "metadata": {},
   "outputs": [
    {
     "name": "stdin",
     "output_type": "stream",
     "text": [
      "Enter n: 10\n"
     ]
    },
    {
     "name": "stdout",
     "output_type": "stream",
     "text": [
      "55\n"
     ]
    }
   ],
   "source": [
    "#Sum of all numbers from 1 to n\n",
    "n=int(input('Enter n:'))\n",
    "sum=0\n",
    "i=1\n",
    "while i<=n:\n",
    "    sum=sum+i\n",
    "    i=i+1\n",
    "print(sum)"
   ]
  },
  {
   "cell_type": "code",
   "execution_count": 19,
   "id": "f195fa7c-0b47-47fa-b05a-ecae4d0cf880",
   "metadata": {},
   "outputs": [
    {
     "name": "stdin",
     "output_type": "stream",
     "text": [
      "Enter n: 6\n"
     ]
    },
    {
     "name": "stdout",
     "output_type": "stream",
     "text": [
      "12\n"
     ]
    }
   ],
   "source": [
    "#Sum of all even numbers from 1 to n\n",
    "n=int(input('Enter n:'))\n",
    "i=1\n",
    "sum=0\n",
    "while i<=n:\n",
    "    if i%2==0:\n",
    "        sum=sum+i\n",
    "    i=i+1\n",
    "print(sum)"
   ]
  },
  {
   "cell_type": "code",
   "execution_count": null,
   "id": "78dd6101-6a05-428e-ab8e-d535fb51549f",
   "metadata": {},
   "outputs": [],
   "source": [
    "#Check whether number is prime or not\n",
    "n=int(input('Enter n:'))\n",
    "i=2\n",
    "flag=False\n",
    "while(i<=n-1):\n",
    "    if n%i==0:\n",
    "        flag=True\n",
    "    i=i+1\n",
    "if flag==True:\n",
    "    print('NOT PRIME')\n",
    "else:\n",
    "    print('PRIME')"
   ]
  },
  {
   "cell_type": "code",
   "execution_count": null,
   "id": "ae7cd848-95b7-4da8-bff7-85101cf7058a",
   "metadata": {},
   "outputs": [],
   "source": [
    "#Check whether number is prime or not\n",
    "n=int(input('Enter n:'))\n",
    "i=2\n",
    "flag=False\n",
    "while(i<=n-1):\n",
    "    if n%i==0:\n",
    "        flag=True\n",
    "    i=i+1\n",
    "if flag==True:\n",
    "    print('NOT PRIME')\n",
    "else:\n",
    "    print('PRIME')"
   ]
  },
  {
   "cell_type": "code",
   "execution_count": null,
   "id": "30c05e50-ee0a-4f86-a47b-91bb064a617e",
   "metadata": {},
   "outputs": [],
   "source": []
  }
 ],
 "metadata": {
  "kernelspec": {
   "display_name": "Python 3 (ipykernel)",
   "language": "python",
   "name": "python3"
  },
  "language_info": {
   "codemirror_mode": {
    "name": "ipython",
    "version": 3
   },
   "file_extension": ".py",
   "mimetype": "text/x-python",
   "name": "python",
   "nbconvert_exporter": "python",
   "pygments_lexer": "ipython3",
   "version": "3.11.7"
  }
 },
 "nbformat": 4,
 "nbformat_minor": 5
}
